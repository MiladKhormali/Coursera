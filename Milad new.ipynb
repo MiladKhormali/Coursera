{
 "cells": [
  {
   "cell_type": "markdown",
   "id": "4204907a",
   "metadata": {},
   "source": [
    "# My First Notebook"
   ]
  },
  {
   "cell_type": "markdown",
   "id": "e243efac",
   "metadata": {},
   "source": [
    "## Welcome to My First Notebook. In this notebook, I will explore various data science tools, languages, and libraries. Let's dive in!"
   ]
  },
  {
   "cell_type": "markdown",
   "id": "c0455004",
   "metadata": {},
   "source": [
    "## Data Science Languages\n",
    "\n",
    "- Python\n",
    "- R\n",
    "- Julia\n",
    "- SQL\n",
    "- VBA \n",
    "- JavaScript\n",
    "- Java\n",
    "- Scala\n",
    "- SAS\n",
    "- MATLAB\n",
    "- C/C++\n",
    "- Swift"
   ]
  },
  {
   "cell_type": "markdown",
   "id": "d40d0f69",
   "metadata": {},
   "source": [
    "## Data science Libraries\n",
    "- NumPy\n",
    "- Keras\n",
    "- Pandas\n",
    "- PyTorch\n",
    "- SciPy\n",
    "- Scikit-Learn\n",
    "- TensorFlow\n",
    "- Matplotlib\n",
    "- Seaborn\n",
    "- Theano"
   ]
  },
  {
   "cell_type": "markdown",
   "id": "8d7ab1dc",
   "metadata": {},
   "source": [
    "## Data Science Tools\n",
    "\n",
    "| Tool            | Description                |\n",
    "| --------------- | -------------------------- |\n",
    "| Jupyter Notebook| Interactive Computing      |\n",
    "| VS Code         | Integrated Development     |\n",
    "| Tableau         | Data Visualization         |\n",
    "| Docker          | Containerization           |\n",
    "| RStudio         | Integrated Development for R|\n",
    "| TensorFlow      | Machine Learning Framework  |\n",
    "| Power BI        | Business Analytics and Visualization |"
   ]
  },
  {
   "cell_type": "markdown",
   "id": "d7d2c297",
   "metadata": {},
   "source": [
    "## Arithmetic Expression Examples\n",
    "#### Multiplication example\n",
    "multiply = 3 * 7\n"
   ]
  },
  {
   "cell_type": "code",
   "execution_count": 15,
   "id": "a88edd20",
   "metadata": {},
   "outputs": [
    {
     "data": {
      "text/plain": [
       "(39, 16)"
      ]
     },
     "execution_count": 15,
     "metadata": {},
     "output_type": "execute_result"
    }
   ],
   "source": [
    "# Multiplication\n",
    "Result_of_Multiply = 13 * 3\n",
    "\n",
    "# Addition\n",
    "Result_of_Addition = 13 + 3\n",
    "\n",
    "Result_of_Multiply, Result_of_Addition"
   ]
  },
  {
   "cell_type": "code",
   "execution_count": 14,
   "id": "c51fb209",
   "metadata": {},
   "outputs": [
    {
     "data": {
      "text/plain": [
       "6.0"
      ]
     },
     "execution_count": 14,
     "metadata": {},
     "output_type": "execute_result"
    }
   ],
   "source": [
    "# Convert minutes to hours\n",
    "minutes = 360\n",
    "hours = minutes / 60\n",
    "\n",
    "hours"
   ]
  },
  {
   "cell_type": "markdown",
   "id": "c5f9f768",
   "metadata": {},
   "source": [
    "# Objectives\n",
    "- a markdown cell with the title of the notebook\n",
    "- a markdown cell for an introduction\n",
    "- a markdown cell to list data science languages\n",
    "- a markdown cell to list data science libraries\n",
    "- a markdown cell with a table of Data Science tools\n",
    "- a markdown cell introducing arithmetic expression examples\n",
    "- a code cell to multiply and add numbers\n",
    "- a code cell to convert minutes to hours\n",
    "- a markdown cell to list Objectives\n",
    "- a markdown cell to indicate the Author’s name\n",
    "- notebook file in GitHub\n",
    "- a screenshot of the first page of the notebook"
   ]
  },
  {
   "cell_type": "markdown",
   "id": "ab2bb11f",
   "metadata": {},
   "source": [
    "# Author\n",
    "\n",
    "Milad Khormali"
   ]
  }
 ],
 "metadata": {
  "kernelspec": {
   "display_name": "Python 3 (ipykernel)",
   "language": "python",
   "name": "python3"
  },
  "language_info": {
   "codemirror_mode": {
    "name": "ipython",
    "version": 3
   },
   "file_extension": ".py",
   "mimetype": "text/x-python",
   "name": "python",
   "nbconvert_exporter": "python",
   "pygments_lexer": "ipython3",
   "version": "3.11.5"
  }
 },
 "nbformat": 4,
 "nbformat_minor": 5
}
